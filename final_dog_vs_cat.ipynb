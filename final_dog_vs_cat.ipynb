{
 "cells": [
  {
   "cell_type": "markdown",
   "metadata": {},
   "source": [
    "# Preparing Final Dataset"
   ]
  },
  {
   "cell_type": "raw",
   "metadata": {},
   "source": [
    "finalize_dogs_vs_cats\n",
    "├── cats\n",
    "└── dogs"
   ]
  },
  {
   "cell_type": "code",
   "execution_count": 4,
   "metadata": {},
   "outputs": [],
   "source": [
    "from os import makedirs, listdir\n",
    "from os.path import join\n",
    "from shutil import copyfile, copy2\n"
   ]
  },
  {
   "cell_type": "code",
   "execution_count": null,
   "metadata": {},
   "outputs": [],
   "source": [
    "# creating directories\n",
    "dataset_home = 'finaldata_dogs_vs_cats'\n",
    "# create label subdirectories\n",
    "subdirs = ['cats', 'dogs']\n",
    "for dir in subdirs:\n",
    "    makedirs(join(dataset_home, dir), exist_ok=True)\n",
    "# copying training images to new directories\n",
    "src_directory = 'train'\n",
    "for file in listdir(src_directory):\n",
    "    src = join(src_directory, file)\n",
    "    if file.startswith('cat'):\n",
    "        copy2(src, join(dataset_home, 'cats'))\n",
    "    elif file.startswith('dog'):\n",
    "        copy2(src, join(dataset_home, 'dogs'))\n"
   ]
  },
  {
   "cell_type": "code",
   "execution_count": 3,
   "metadata": {},
   "outputs": [
    {
     "data": {
      "text/plain": [
       "25000"
      ]
     },
     "execution_count": 3,
     "metadata": {},
     "output_type": "execute_result"
    }
   ],
   "source": [
    "number_of_images = len(listdir(join(dataset_home, subdirs[0]))) + len(listdir(join(dataset_home, subdirs[1])))\n",
    "number_of_images"
   ]
  },
  {
   "cell_type": "code",
   "execution_count": 4,
   "metadata": {},
   "outputs": [],
   "source": [
    "from tensorflow.keras.applications.vgg16 import VGG16\n",
    "from tensorflow.keras.models import Model\n",
    "from tensorflow.keras.layers import Flatten, Dense\n",
    "from tensorflow.keras.optimizers import SGD\n",
    "from tensorflow.keras.preprocessing.image import ImageDataGenerator\n"
   ]
  },
  {
   "cell_type": "code",
   "execution_count": 2,
   "metadata": {},
   "outputs": [],
   "source": [
    "# define the cnn model\n",
    "def define_model():\n",
    "    # load model\n",
    "    model = VGG16(include_top=False, input_shape=(224, 224, 3))\n",
    "    for layer in model.layers:\n",
    "        layer.trainable = False\n",
    "    # adding new layers\n",
    "    flat1 = Flatten()(model.layers[-1].output)\n",
    "    class1 = Dense(units=128, activation='relu',\n",
    "                   kernel_initializer='he_uniform')(flat1)\n",
    "    output = Dense(units=1, activation='sigmoid')(class1)\n",
    "    # create new model\n",
    "    model = Model(inputs=model.input, outputs=output)\n",
    "    opt = SGD(learning_rate=0.001, momentum=0.9)\n",
    "    #compile the new model\n",
    "    model.compile(optimizer=opt, loss='binary_crossentropy',\n",
    "                  metrics=['accuracy'])\n",
    "    return model\n"
   ]
  },
  {
   "cell_type": "code",
   "execution_count": 3,
   "metadata": {},
   "outputs": [
    {
     "name": "stdout",
     "output_type": "stream",
     "text": [
      "Model: \"model\"\n",
      "_________________________________________________________________\n",
      " Layer (type)                Output Shape              Param #   \n",
      "=================================================================\n",
      " input_1 (InputLayer)        [(None, 224, 224, 3)]     0         \n",
      "                                                                 \n",
      " block1_conv1 (Conv2D)       (None, 224, 224, 64)      1792      \n",
      "                                                                 \n",
      " block1_conv2 (Conv2D)       (None, 224, 224, 64)      36928     \n",
      "                                                                 \n",
      " block1_pool (MaxPooling2D)  (None, 112, 112, 64)      0         \n",
      "                                                                 \n",
      " block2_conv1 (Conv2D)       (None, 112, 112, 128)     73856     \n",
      "                                                                 \n",
      " block2_conv2 (Conv2D)       (None, 112, 112, 128)     147584    \n",
      "                                                                 \n",
      " block2_pool (MaxPooling2D)  (None, 56, 56, 128)       0         \n",
      "                                                                 \n",
      " block3_conv1 (Conv2D)       (None, 56, 56, 256)       295168    \n",
      "                                                                 \n",
      " block3_conv2 (Conv2D)       (None, 56, 56, 256)       590080    \n",
      "                                                                 \n",
      " block3_conv3 (Conv2D)       (None, 56, 56, 256)       590080    \n",
      "                                                                 \n",
      " block3_pool (MaxPooling2D)  (None, 28, 28, 256)       0         \n",
      "                                                                 \n",
      " block4_conv1 (Conv2D)       (None, 28, 28, 512)       1180160   \n",
      "                                                                 \n",
      " block4_conv2 (Conv2D)       (None, 28, 28, 512)       2359808   \n",
      "                                                                 \n",
      " block4_conv3 (Conv2D)       (None, 28, 28, 512)       2359808   \n",
      "                                                                 \n",
      " block4_pool (MaxPooling2D)  (None, 14, 14, 512)       0         \n",
      "                                                                 \n",
      " block5_conv1 (Conv2D)       (None, 14, 14, 512)       2359808   \n",
      "                                                                 \n",
      " block5_conv2 (Conv2D)       (None, 14, 14, 512)       2359808   \n",
      "                                                                 \n",
      " block5_conv3 (Conv2D)       (None, 14, 14, 512)       2359808   \n",
      "                                                                 \n",
      " block5_pool (MaxPooling2D)  (None, 7, 7, 512)         0         \n",
      "                                                                 \n",
      " flatten (Flatten)           (None, 25088)             0         \n",
      "                                                                 \n",
      " dense (Dense)               (None, 128)               3211392   \n",
      "                                                                 \n",
      " dense_1 (Dense)             (None, 1)                 129       \n",
      "                                                                 \n",
      "=================================================================\n",
      "Total params: 17,926,209\n",
      "Trainable params: 3,211,521\n",
      "Non-trainable params: 14,714,688\n",
      "_________________________________________________________________\n"
     ]
    }
   ],
   "source": [
    "define_model().summary()"
   ]
  },
  {
   "cell_type": "code",
   "execution_count": 4,
   "metadata": {},
   "outputs": [],
   "source": [
    "def run_test_harness():\n",
    "    model = define_model()\n",
    "    datagen = ImageDataGenerator(featurewise_center=True)\n",
    "    datagen.mean = [123.68, 116.779, 103.939]\n",
    "    train_it = datagen.flow_from_directory(\n",
    "        directory='finaldata_dogs_vs_cats', class_mode='binary', target_size=(224, 224), batch_size=64)\n",
    "    model.fit(train_it, steps_per_epoch=len(train_it), epochs=10, verbose=1)\n",
    "    model.save('final_model.h5')\n"
   ]
  },
  {
   "cell_type": "code",
   "execution_count": 5,
   "metadata": {},
   "outputs": [
    {
     "name": "stdout",
     "output_type": "stream",
     "text": [
      "Found 25000 images belonging to 2 classes.\n",
      "Epoch 1/10\n",
      "391/391 [==============================] - 773s 2s/step - loss: 0.1951 - accuracy: 0.9666\n",
      "Epoch 2/10\n",
      "391/391 [==============================] - 209s 533ms/step - loss: 0.0266 - accuracy: 0.9911\n",
      "Epoch 3/10\n",
      "391/391 [==============================] - 206s 525ms/step - loss: 0.0073 - accuracy: 0.9986\n",
      "Epoch 4/10\n",
      "391/391 [==============================] - 208s 530ms/step - loss: 0.0021 - accuracy: 0.9996\n",
      "Epoch 5/10\n",
      "391/391 [==============================] - 208s 531ms/step - loss: 0.0011 - accuracy: 0.9998\n",
      "Epoch 6/10\n",
      "391/391 [==============================] - 210s 537ms/step - loss: 7.9690e-04 - accuracy: 0.9998\n",
      "Epoch 7/10\n",
      "391/391 [==============================] - 209s 533ms/step - loss: 5.2036e-04 - accuracy: 0.9998\n",
      "Epoch 8/10\n",
      "391/391 [==============================] - 209s 533ms/step - loss: 4.3392e-04 - accuracy: 0.9998\n",
      "Epoch 9/10\n",
      "391/391 [==============================] - 209s 533ms/step - loss: 3.8647e-04 - accuracy: 0.9999\n",
      "Epoch 10/10\n",
      "391/391 [==============================] - 209s 534ms/step - loss: 3.8062e-04 - accuracy: 0.9998\n"
     ]
    }
   ],
   "source": [
    "run_test_harness()"
   ]
  },
  {
   "cell_type": "code",
   "execution_count": 9,
   "metadata": {},
   "outputs": [],
   "source": [
    "from tensorflow.keras.models import load_model\n",
    "from tensorflow.keras.preprocessing.image import ImageDataGenerator"
   ]
  },
  {
   "cell_type": "code",
   "execution_count": 10,
   "metadata": {},
   "outputs": [
    {
     "name": "stdout",
     "output_type": "stream",
     "text": [
      "Found 12500 images belonging to 1 classes.\n",
      "12500/12500 [==============================] - 256s 20ms/step\n"
     ]
    }
   ],
   "source": [
    "test_dataset = 'test1'\n",
    "model = load_model('final_model.h5')\n",
    "\n",
    "datagen = ImageDataGenerator(featurewise_center=True)\n",
    "datagen.mean = [123.68, 116.779, 103.939]\n",
    "test_it = datagen.flow_from_directory(\n",
    "    directory=test_dataset, class_mode=None, target_size=(224, 224), color_mode='rgb', batch_size=1, shuffle=False)\n",
    "predictions = model.predict(test_it, verbose=1)"
   ]
  },
  {
   "cell_type": "code",
   "execution_count": 19,
   "metadata": {},
   "outputs": [
    {
     "data": {
      "text/html": [
       "<div>\n",
       "<style scoped>\n",
       "    .dataframe tbody tr th:only-of-type {\n",
       "        vertical-align: middle;\n",
       "    }\n",
       "\n",
       "    .dataframe tbody tr th {\n",
       "        vertical-align: top;\n",
       "    }\n",
       "\n",
       "    .dataframe thead th {\n",
       "        text-align: right;\n",
       "    }\n",
       "</style>\n",
       "<table border=\"1\" class=\"dataframe\">\n",
       "  <thead>\n",
       "    <tr style=\"text-align: right;\">\n",
       "      <th></th>\n",
       "      <th>id</th>\n",
       "      <th>label</th>\n",
       "    </tr>\n",
       "  </thead>\n",
       "  <tbody>\n",
       "    <tr>\n",
       "      <th>0</th>\n",
       "      <td>1</td>\n",
       "      <td>1.0</td>\n",
       "    </tr>\n",
       "    <tr>\n",
       "      <th>3612</th>\n",
       "      <td>2</td>\n",
       "      <td>1.0</td>\n",
       "    </tr>\n",
       "    <tr>\n",
       "      <th>4723</th>\n",
       "      <td>3</td>\n",
       "      <td>1.0</td>\n",
       "    </tr>\n",
       "    <tr>\n",
       "      <th>5834</th>\n",
       "      <td>4</td>\n",
       "      <td>1.0</td>\n",
       "    </tr>\n",
       "    <tr>\n",
       "      <th>6945</th>\n",
       "      <td>5</td>\n",
       "      <td>0.0</td>\n",
       "    </tr>\n",
       "  </tbody>\n",
       "</table>\n",
       "</div>"
      ],
      "text/plain": [
       "      id  label\n",
       "0      1    1.0\n",
       "3612   2    1.0\n",
       "4723   3    1.0\n",
       "5834   4    1.0\n",
       "6945   5    0.0"
      ]
     },
     "execution_count": 19,
     "metadata": {},
     "output_type": "execute_result"
    }
   ],
   "source": [
    "import pandas as pd\n",
    "import numpy as np\n",
    "\n",
    "submission = pd.DataFrame({'id': test_it.filenames,'label': np.around(predictions[:, 0])})\n",
    "submission['id'] = submission['id'].apply(lambda x: int(x.split('\\\\')[1].split('.')[0]))\n",
    "submission.sort_values(by='id', inplace=True)\n",
    "submission.head()"
   ]
  },
  {
   "cell_type": "code",
   "execution_count": 18,
   "metadata": {},
   "outputs": [],
   "source": [
    "submission.to_csv('submission.csv', index=False)"
   ]
  }
 ],
 "metadata": {
  "interpreter": {
   "hash": "2f6e72ab736cc90fa07d3aa53532b65885f1a761af9005c6a121814f1da0f836"
  },
  "kernelspec": {
   "display_name": "Python 3.8.1 64-bit",
   "language": "python",
   "name": "python3"
  },
  "language_info": {
   "codemirror_mode": {
    "name": "ipython",
    "version": 3
   },
   "file_extension": ".py",
   "mimetype": "text/x-python",
   "name": "python",
   "nbconvert_exporter": "python",
   "pygments_lexer": "ipython3",
   "version": "3.8.1"
  },
  "orig_nbformat": 4
 },
 "nbformat": 4,
 "nbformat_minor": 2
}
